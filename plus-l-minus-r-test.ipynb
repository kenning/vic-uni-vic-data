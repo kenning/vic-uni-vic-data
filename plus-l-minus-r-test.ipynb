{
 "cells": [
  {
   "cell_type": "code",
   "execution_count": 13,
   "metadata": {},
   "outputs": [],
   "source": [
    "# Attempt to formalize my logic for pseudo-plus-l-minus-r method\n",
    "import random\n",
    "import numpy as np\n",
    "\n",
    "starting_features = np.arange(30)\n",
    "\n",
    "def test_function(inputarr): \n",
    "    return inputarr[inputarr%3 == 0]\n",
    "\n",
    "def evaluate(arr):\n",
    "    return len(test_function(arr)) / len(arr)\n",
    "    \n",
    "def get_k_rand_items(k, arr):\n",
    "    array_B = random.sample(arr, k=k)\n",
    "    return array_B\n",
    "\n",
    "def remove_from_arr(to_remove, arr):\n",
    "    return [item for item in arr if item not in to_remove]\n",
    "\n",
    "l = 3\n",
    "r = 2\n",
    "\n",
    "previous_feature_set = []\n",
    "current_feature_set = []\n",
    "previous_eval = 0.0\n",
    "do_this_next = 'a'\n",
    "\n",
    "iteration = 0\n",
    "while iteration < 20:\n",
    "    iteration = iteration + 1\n",
    "    previous_feature_set = current_feature_set.copy()\n",
    "\n",
    "    if do_this_next == 'a':\n",
    "        new_features = get_k_rand_items(starting_features, l)\n",
    "        current_feature_set = current_feature_set + new_features\n",
    "        new_eval = evaluate(current_feature_set)\n",
    "        if new_eval > previous_eval:\n",
    "            # do_this_next stays 'a'\n",
    "            previous_eval = new_eval\n",
    "            starting_features = starting_features + \n",
    "        else:\n",
    "            do_this_next = 'b'\n",
    "            current_feature_set = previous_feature_set\n",
    "    else if do_this_next == 'b':\n",
    "\n",
    "    \n",
    "\n",
    "\n",
    "\n",
    "\n",
    "# a. try adding L items (maybe L is 10).\n",
    "# b. see if performance has improved. if it has, go back to a. if not continue to c.\n",
    "# c. try removing R items (maybe R is 5).\n",
    "# d. see if performance has improved. if it has, go back to c. if not go back to a."
   ]
  },
  {
   "cell_type": "code",
   "execution_count": 15,
   "metadata": {},
   "outputs": [
    {
     "data": {
      "text/plain": [
       "0.4"
      ]
     },
     "execution_count": 15,
     "metadata": {},
     "output_type": "execute_result"
    }
   ],
   "source": [
    "evaluate(np.arange(10))"
   ]
  },
  {
   "cell_type": "code",
   "execution_count": null,
   "metadata": {},
   "outputs": [],
   "source": []
  }
 ],
 "metadata": {
  "kernelspec": {
   "display_name": "spark",
   "language": "python",
   "name": "python3"
  },
  "language_info": {
   "codemirror_mode": {
    "name": "ipython",
    "version": 3
   },
   "file_extension": ".py",
   "mimetype": "text/x-python",
   "name": "python",
   "nbconvert_exporter": "python",
   "pygments_lexer": "ipython3",
   "version": "3.9.19"
  }
 },
 "nbformat": 4,
 "nbformat_minor": 2
}
